{
  "nbformat": 4,
  "nbformat_minor": 0,
  "metadata": {
    "colab": {
      "name": "ConvAutoEncoder.ipynb",
      "provenance": [],
      "authorship_tag": "ABX9TyNUgahDkGrNDig/rJ61WfG+",
      "include_colab_link": true
    },
    "kernelspec": {
      "name": "python3",
      "display_name": "Python 3"
    },
    "accelerator": "GPU",
    "widgets": {
      "application/vnd.jupyter.widget-state+json": {
        "aa5c1f96a5124a1d9506dd73e78ab66c": {
          "model_module": "@jupyter-widgets/controls",
          "model_name": "HBoxModel",
          "state": {
            "_view_name": "HBoxView",
            "_dom_classes": [],
            "_model_name": "HBoxModel",
            "_view_module": "@jupyter-widgets/controls",
            "_model_module_version": "1.5.0",
            "_view_count": null,
            "_view_module_version": "1.5.0",
            "box_style": "",
            "layout": "IPY_MODEL_7bd94b76ced34c4880b121a4019e107e",
            "_model_module": "@jupyter-widgets/controls",
            "children": [
              "IPY_MODEL_154db3626d4a4287a68113e69928d5c7",
              "IPY_MODEL_bf847dcc01914379997aaf6676174bce"
            ]
          }
        },
        "7bd94b76ced34c4880b121a4019e107e": {
          "model_module": "@jupyter-widgets/base",
          "model_name": "LayoutModel",
          "state": {
            "_view_name": "LayoutView",
            "grid_template_rows": null,
            "right": null,
            "justify_content": null,
            "_view_module": "@jupyter-widgets/base",
            "overflow": null,
            "_model_module_version": "1.2.0",
            "_view_count": null,
            "flex_flow": null,
            "width": null,
            "min_width": null,
            "border": null,
            "align_items": null,
            "bottom": null,
            "_model_module": "@jupyter-widgets/base",
            "top": null,
            "grid_column": null,
            "overflow_y": null,
            "overflow_x": null,
            "grid_auto_flow": null,
            "grid_area": null,
            "grid_template_columns": null,
            "flex": null,
            "_model_name": "LayoutModel",
            "justify_items": null,
            "grid_row": null,
            "max_height": null,
            "align_content": null,
            "visibility": null,
            "align_self": null,
            "height": null,
            "min_height": null,
            "padding": null,
            "grid_auto_rows": null,
            "grid_gap": null,
            "max_width": null,
            "order": null,
            "_view_module_version": "1.2.0",
            "grid_template_areas": null,
            "object_position": null,
            "object_fit": null,
            "grid_auto_columns": null,
            "margin": null,
            "display": null,
            "left": null
          }
        },
        "154db3626d4a4287a68113e69928d5c7": {
          "model_module": "@jupyter-widgets/controls",
          "model_name": "IntProgressModel",
          "state": {
            "_view_name": "ProgressView",
            "style": "IPY_MODEL_29180834c44e4a2d98b5d1a7f55c0a7c",
            "_dom_classes": [],
            "description": "",
            "_model_name": "IntProgressModel",
            "bar_style": "info",
            "max": 1,
            "_view_module": "@jupyter-widgets/controls",
            "_model_module_version": "1.5.0",
            "value": 1,
            "_view_count": null,
            "_view_module_version": "1.5.0",
            "orientation": "horizontal",
            "min": 0,
            "description_tooltip": null,
            "_model_module": "@jupyter-widgets/controls",
            "layout": "IPY_MODEL_45d15cb4174c492db8ec369a56755924"
          }
        },
        "bf847dcc01914379997aaf6676174bce": {
          "model_module": "@jupyter-widgets/controls",
          "model_name": "HTMLModel",
          "state": {
            "_view_name": "HTMLView",
            "style": "IPY_MODEL_bb05fce54e9c41eea4a0c781c1a72685",
            "_dom_classes": [],
            "description": "",
            "_model_name": "HTMLModel",
            "placeholder": "​",
            "_view_module": "@jupyter-widgets/controls",
            "_model_module_version": "1.5.0",
            "value": " 170500096/? [00:20&lt;00:00, 32682215.35it/s]",
            "_view_count": null,
            "_view_module_version": "1.5.0",
            "description_tooltip": null,
            "_model_module": "@jupyter-widgets/controls",
            "layout": "IPY_MODEL_ce24cbf0e8c74e3b97249907f634f991"
          }
        },
        "29180834c44e4a2d98b5d1a7f55c0a7c": {
          "model_module": "@jupyter-widgets/controls",
          "model_name": "ProgressStyleModel",
          "state": {
            "_view_name": "StyleView",
            "_model_name": "ProgressStyleModel",
            "description_width": "initial",
            "_view_module": "@jupyter-widgets/base",
            "_model_module_version": "1.5.0",
            "_view_count": null,
            "_view_module_version": "1.2.0",
            "bar_color": null,
            "_model_module": "@jupyter-widgets/controls"
          }
        },
        "45d15cb4174c492db8ec369a56755924": {
          "model_module": "@jupyter-widgets/base",
          "model_name": "LayoutModel",
          "state": {
            "_view_name": "LayoutView",
            "grid_template_rows": null,
            "right": null,
            "justify_content": null,
            "_view_module": "@jupyter-widgets/base",
            "overflow": null,
            "_model_module_version": "1.2.0",
            "_view_count": null,
            "flex_flow": null,
            "width": null,
            "min_width": null,
            "border": null,
            "align_items": null,
            "bottom": null,
            "_model_module": "@jupyter-widgets/base",
            "top": null,
            "grid_column": null,
            "overflow_y": null,
            "overflow_x": null,
            "grid_auto_flow": null,
            "grid_area": null,
            "grid_template_columns": null,
            "flex": null,
            "_model_name": "LayoutModel",
            "justify_items": null,
            "grid_row": null,
            "max_height": null,
            "align_content": null,
            "visibility": null,
            "align_self": null,
            "height": null,
            "min_height": null,
            "padding": null,
            "grid_auto_rows": null,
            "grid_gap": null,
            "max_width": null,
            "order": null,
            "_view_module_version": "1.2.0",
            "grid_template_areas": null,
            "object_position": null,
            "object_fit": null,
            "grid_auto_columns": null,
            "margin": null,
            "display": null,
            "left": null
          }
        },
        "bb05fce54e9c41eea4a0c781c1a72685": {
          "model_module": "@jupyter-widgets/controls",
          "model_name": "DescriptionStyleModel",
          "state": {
            "_view_name": "StyleView",
            "_model_name": "DescriptionStyleModel",
            "description_width": "",
            "_view_module": "@jupyter-widgets/base",
            "_model_module_version": "1.5.0",
            "_view_count": null,
            "_view_module_version": "1.2.0",
            "_model_module": "@jupyter-widgets/controls"
          }
        },
        "ce24cbf0e8c74e3b97249907f634f991": {
          "model_module": "@jupyter-widgets/base",
          "model_name": "LayoutModel",
          "state": {
            "_view_name": "LayoutView",
            "grid_template_rows": null,
            "right": null,
            "justify_content": null,
            "_view_module": "@jupyter-widgets/base",
            "overflow": null,
            "_model_module_version": "1.2.0",
            "_view_count": null,
            "flex_flow": null,
            "width": null,
            "min_width": null,
            "border": null,
            "align_items": null,
            "bottom": null,
            "_model_module": "@jupyter-widgets/base",
            "top": null,
            "grid_column": null,
            "overflow_y": null,
            "overflow_x": null,
            "grid_auto_flow": null,
            "grid_area": null,
            "grid_template_columns": null,
            "flex": null,
            "_model_name": "LayoutModel",
            "justify_items": null,
            "grid_row": null,
            "max_height": null,
            "align_content": null,
            "visibility": null,
            "align_self": null,
            "height": null,
            "min_height": null,
            "padding": null,
            "grid_auto_rows": null,
            "grid_gap": null,
            "max_width": null,
            "order": null,
            "_view_module_version": "1.2.0",
            "grid_template_areas": null,
            "object_position": null,
            "object_fit": null,
            "grid_auto_columns": null,
            "margin": null,
            "display": null,
            "left": null
          }
        }
      }
    }
  },
  "cells": [
    {
      "cell_type": "markdown",
      "metadata": {
        "id": "view-in-github",
        "colab_type": "text"
      },
      "source": [
        "<a href=\"https://colab.research.google.com/github/PratikhyaManas/AutoEncoders/blob/master/ConvAutoEncoder.ipynb\" target=\"_parent\"><img src=\"https://colab.research.google.com/assets/colab-badge.svg\" alt=\"Open In Colab\"/></a>"
      ]
    },
    {
      "cell_type": "markdown",
      "metadata": {
        "id": "fTzf8-lLml_J",
        "colab_type": "text"
      },
      "source": [
        "#**Convolutional AutoEncoder**"
      ]
    },
    {
      "cell_type": "markdown",
      "metadata": {
        "id": "Xhm3Ba5gmtCc",
        "colab_type": "text"
      },
      "source": [
        "# **Importing the Libraries**"
      ]
    },
    {
      "cell_type": "code",
      "metadata": {
        "id": "ocqOcN9QmgI1",
        "colab_type": "code",
        "colab": {}
      },
      "source": [
        "import os\n",
        "import torch \n",
        "import torchvision\n",
        "import torch.nn as nn\n",
        "import torchvision.transforms as transforms\n",
        "import torch.optim as optim\n",
        "import torch.nn.functional as F\n",
        "import matplotlib.pyplot as plt\n",
        " \n",
        "from torchvision import datasets\n",
        "from torch.utils.data import DataLoader\n",
        "from torchvision.utils import save_image"
      ],
      "execution_count": 0,
      "outputs": []
    },
    {
      "cell_type": "markdown",
      "metadata": {
        "id": "GQ8FH9mAnA9D",
        "colab_type": "text"
      },
      "source": [
        "# **Defining Constants and Preparing Data**"
      ]
    },
    {
      "cell_type": "code",
      "metadata": {
        "id": "2kSogerCm6ap",
        "colab_type": "code",
        "outputId": "4c64d1cf-e036-43fa-bc59-0b2ef0288ed4",
        "colab": {
          "base_uri": "https://localhost:8080/",
          "height": 99,
          "referenced_widgets": [
            "aa5c1f96a5124a1d9506dd73e78ab66c",
            "7bd94b76ced34c4880b121a4019e107e",
            "154db3626d4a4287a68113e69928d5c7",
            "bf847dcc01914379997aaf6676174bce",
            "29180834c44e4a2d98b5d1a7f55c0a7c",
            "45d15cb4174c492db8ec369a56755924",
            "bb05fce54e9c41eea4a0c781c1a72685",
            "ce24cbf0e8c74e3b97249907f634f991"
          ]
        }
      },
      "source": [
        "#Constants\n",
        "NUM_EPOCHS = 50\n",
        "LEARNING_RATE = 1e-3\n",
        "BATCH_SIZE = 32\n",
        "\n",
        "#Transform Function\n",
        "transform = transforms.Compose([transforms.ToTensor(),transforms.Normalize((0.5, 0.5, 0.5), (0.5, 0.5, 0.5))])\n",
        "\n",
        "#Preparing Data\n",
        "trainset = datasets.CIFAR10(\n",
        "    root='./data',\n",
        "    train=True, \n",
        "    download=True,\n",
        "    transform=transform\n",
        ")\n",
        "testset = datasets.CIFAR10(\n",
        "    root='./data',\n",
        "    train=False,\n",
        "    download=True,\n",
        "    transform=transform\n",
        ")\n",
        " \n",
        "trainloader = DataLoader(\n",
        "    trainset, \n",
        "    batch_size=BATCH_SIZE,\n",
        "    shuffle=True\n",
        ")\n",
        "testloader = DataLoader(\n",
        "    testset, \n",
        "    batch_size=BATCH_SIZE, \n",
        "    shuffle=True\n",
        ")"
      ],
      "execution_count": 0,
      "outputs": [
        {
          "output_type": "stream",
          "text": [
            "Downloading https://www.cs.toronto.edu/~kriz/cifar-10-python.tar.gz to ./data/cifar-10-python.tar.gz\n"
          ],
          "name": "stdout"
        },
        {
          "output_type": "display_data",
          "data": {
            "application/vnd.jupyter.widget-view+json": {
              "model_id": "aa5c1f96a5124a1d9506dd73e78ab66c",
              "version_minor": 0,
              "version_major": 2
            },
            "text/plain": [
              "HBox(children=(IntProgress(value=1, bar_style='info', max=1), HTML(value='')))"
            ]
          },
          "metadata": {
            "tags": []
          }
        },
        {
          "output_type": "stream",
          "text": [
            "Extracting ./data/cifar-10-python.tar.gz to ./data\n",
            "Files already downloaded and verified\n"
          ],
          "name": "stdout"
        }
      ]
    },
    {
      "cell_type": "markdown",
      "metadata": {
        "id": "Zv8EF4wVnnNT",
        "colab_type": "text"
      },
      "source": [
        "#**Defining Utility Functions**"
      ]
    },
    {
      "cell_type": "code",
      "metadata": {
        "id": "74J6Ru59nhfB",
        "colab_type": "code",
        "colab": {}
      },
      "source": [
        "def get_device():\n",
        "    if torch.cuda.is_available():\n",
        "        device = 'cuda:0'\n",
        "    else:\n",
        "        device = 'cpu'\n",
        "    return device\n",
        " \n",
        "def make_dir():\n",
        "    image_dir = 'Conv_CIFAR10_Images'\n",
        "    if not os.path.exists(image_dir):\n",
        "        os.makedirs(image_dir)\n",
        " \n",
        "def save_decoded_image(img, name):\n",
        "    img = img.view(img.size(0), 3, 32, 32)\n",
        "    save_image(img, name)"
      ],
      "execution_count": 0,
      "outputs": []
    },
    {
      "cell_type": "markdown",
      "metadata": {
        "id": "LE8LwyuVnzSt",
        "colab_type": "text"
      },
      "source": [
        "# **Building the Network**"
      ]
    },
    {
      "cell_type": "code",
      "metadata": {
        "id": "m5fyzrBrnwYY",
        "colab_type": "code",
        "outputId": "9189eca1-854b-474b-961f-195b54ffb230",
        "colab": {
          "base_uri": "https://localhost:8080/",
          "height": 118
        }
      },
      "source": [
        "class Autoencoder(nn.Module):\n",
        "    def __init__(self):\n",
        "        super(Autoencoder, self).__init__()\n",
        " \n",
        "        # encoder\n",
        "        self.enc1 = nn.Conv2d(\n",
        "            in_channels=3, out_channels=8, kernel_size=3\n",
        "        )\n",
        "        self.enc2 = nn.Conv2d(\n",
        "            in_channels=8, out_channels=4, kernel_size=3\n",
        "        )\n",
        " \n",
        "        # decoder \n",
        "        self.dec1 = nn.ConvTranspose2d(\n",
        "            in_channels=4, out_channels=8, kernel_size=3\n",
        "        )\n",
        "        self.dec2 = nn.ConvTranspose2d(\n",
        "            in_channels=8, out_channels=3, kernel_size=3\n",
        "        )\n",
        " \n",
        "    def forward(self, x):\n",
        "       x = F.relu(self.enc1(x))\n",
        "       x = F.relu(self.enc2(x))\n",
        "       x = F.relu(self.dec1(x))\n",
        "       x = F.relu(self.dec2(x))\n",
        "       return x\n",
        " \n",
        "net = Autoencoder()\n",
        "print(net)"
      ],
      "execution_count": 0,
      "outputs": [
        {
          "output_type": "stream",
          "text": [
            "Autoencoder(\n",
            "  (enc1): Conv2d(3, 8, kernel_size=(3, 3), stride=(1, 1))\n",
            "  (enc2): Conv2d(8, 4, kernel_size=(3, 3), stride=(1, 1))\n",
            "  (dec1): ConvTranspose2d(4, 8, kernel_size=(3, 3), stride=(1, 1))\n",
            "  (dec2): ConvTranspose2d(8, 3, kernel_size=(3, 3), stride=(1, 1))\n",
            ")\n"
          ],
          "name": "stdout"
        }
      ]
    },
    {
      "cell_type": "markdown",
      "metadata": {
        "id": "7bT7a53HoATt",
        "colab_type": "text"
      },
      "source": [
        "# **Loss Function and Optimizer**"
      ]
    },
    {
      "cell_type": "code",
      "metadata": {
        "id": "HHPO9S7Qn79n",
        "colab_type": "code",
        "colab": {}
      },
      "source": [
        "criterion = nn.MSELoss()\n",
        "optimizer = optim.Adam(net.parameters(), lr=LEARNING_RATE)"
      ],
      "execution_count": 0,
      "outputs": []
    },
    {
      "cell_type": "markdown",
      "metadata": {
        "id": "1vQRf0MPoM5T",
        "colab_type": "text"
      },
      "source": [
        "# **Define Train and Test Functions**"
      ]
    },
    {
      "cell_type": "code",
      "metadata": {
        "id": "lz_uOtkZoJlX",
        "colab_type": "code",
        "colab": {}
      },
      "source": [
        "def train(net, trainloader, NUM_EPOCHS):\n",
        "    train_loss = []\n",
        "    for epoch in range(NUM_EPOCHS):\n",
        "        running_loss = 0.0\n",
        "        for data in trainloader:\n",
        "            img, _ = data # no need for the labels\n",
        "            img = img.to(device)\n",
        "            optimizer.zero_grad()\n",
        "            outputs = net(img)\n",
        "            loss = criterion(outputs, img)\n",
        "            loss.backward()\n",
        "            optimizer.step()\n",
        "            running_loss += loss.item()\n",
        "        \n",
        "        loss = running_loss / len(trainloader)\n",
        "        train_loss.append(loss)\n",
        "        print('Epoch {} of {}, Train Loss: {:.3f}'.format(\n",
        "            epoch+1, NUM_EPOCHS, loss))\n",
        " \n",
        "        if epoch % 5 == 0:\n",
        "            save_decoded_image(img.cpu().data, name='./Conv_CIFAR10_Images/original{}.png'.format(epoch))\n",
        "            save_decoded_image(outputs.cpu().data, name='./Conv_CIFAR10_Images/decoded{}.png'.format(epoch))\n",
        " \n",
        "    return train_loss\n",
        " \n",
        "def test_image_reconstruction(net, testloader):\n",
        "     for batch in testloader:\n",
        "        img, _ = batch\n",
        "        img = img.to(device)\n",
        "        outputs = net(img)\n",
        "        outputs = outputs.view(outputs.size(0), 3, 32, 32).cpu().data\n",
        "        save_image(outputs, 'conv_cifar10_reconstruction.png')\n",
        "        break"
      ],
      "execution_count": 0,
      "outputs": []
    },
    {
      "cell_type": "markdown",
      "metadata": {
        "id": "VV55dPonoZBH",
        "colab_type": "text"
      },
      "source": [
        "# **Training the Network**"
      ]
    },
    {
      "cell_type": "code",
      "metadata": {
        "id": "8oFAYRrBoWGD",
        "colab_type": "code",
        "outputId": "8071a494-f676-4002-9a9c-99aee71bf7b3",
        "colab": {
          "base_uri": "https://localhost:8080/",
          "height": 1000
        }
      },
      "source": [
        "device = get_device()\n",
        "print(device)\n",
        "net.to(device)\n",
        "make_dir()\n",
        "train_loss = train(net, trainloader, NUM_EPOCHS)\n",
        "plt.figure()\n",
        "plt.plot(train_loss)\n",
        "plt.title('Train Loss')\n",
        "plt.xlabel('Epochs')\n",
        "plt.ylabel('Loss')\n",
        "plt.savefig('conv_ae_cifar10_loss.png')\n",
        "test_image_reconstruction(net, testloader)"
      ],
      "execution_count": 0,
      "outputs": [
        {
          "output_type": "stream",
          "text": [
            "cuda:0\n",
            "Epoch 1 of 50, Train Loss: 0.153\n",
            "Epoch 2 of 50, Train Loss: 0.147\n",
            "Epoch 3 of 50, Train Loss: 0.146\n",
            "Epoch 4 of 50, Train Loss: 0.146\n",
            "Epoch 5 of 50, Train Loss: 0.145\n",
            "Epoch 6 of 50, Train Loss: 0.145\n",
            "Epoch 7 of 50, Train Loss: 0.145\n",
            "Epoch 8 of 50, Train Loss: 0.145\n",
            "Epoch 9 of 50, Train Loss: 0.145\n",
            "Epoch 10 of 50, Train Loss: 0.144\n",
            "Epoch 11 of 50, Train Loss: 0.144\n",
            "Epoch 12 of 50, Train Loss: 0.144\n",
            "Epoch 13 of 50, Train Loss: 0.144\n",
            "Epoch 14 of 50, Train Loss: 0.144\n",
            "Epoch 15 of 50, Train Loss: 0.144\n",
            "Epoch 16 of 50, Train Loss: 0.144\n",
            "Epoch 17 of 50, Train Loss: 0.144\n",
            "Epoch 18 of 50, Train Loss: 0.144\n",
            "Epoch 19 of 50, Train Loss: 0.144\n",
            "Epoch 20 of 50, Train Loss: 0.144\n",
            "Epoch 21 of 50, Train Loss: 0.144\n",
            "Epoch 22 of 50, Train Loss: 0.144\n",
            "Epoch 23 of 50, Train Loss: 0.144\n",
            "Epoch 24 of 50, Train Loss: 0.144\n",
            "Epoch 25 of 50, Train Loss: 0.144\n",
            "Epoch 26 of 50, Train Loss: 0.143\n",
            "Epoch 27 of 50, Train Loss: 0.143\n",
            "Epoch 28 of 50, Train Loss: 0.143\n",
            "Epoch 29 of 50, Train Loss: 0.143\n",
            "Epoch 30 of 50, Train Loss: 0.143\n",
            "Epoch 31 of 50, Train Loss: 0.143\n",
            "Epoch 32 of 50, Train Loss: 0.143\n",
            "Epoch 33 of 50, Train Loss: 0.143\n",
            "Epoch 34 of 50, Train Loss: 0.143\n",
            "Epoch 35 of 50, Train Loss: 0.143\n",
            "Epoch 36 of 50, Train Loss: 0.143\n",
            "Epoch 37 of 50, Train Loss: 0.143\n",
            "Epoch 38 of 50, Train Loss: 0.143\n",
            "Epoch 39 of 50, Train Loss: 0.143\n",
            "Epoch 40 of 50, Train Loss: 0.143\n",
            "Epoch 41 of 50, Train Loss: 0.143\n",
            "Epoch 42 of 50, Train Loss: 0.143\n",
            "Epoch 43 of 50, Train Loss: 0.143\n",
            "Epoch 44 of 50, Train Loss: 0.143\n",
            "Epoch 45 of 50, Train Loss: 0.143\n",
            "Epoch 46 of 50, Train Loss: 0.143\n",
            "Epoch 47 of 50, Train Loss: 0.143\n",
            "Epoch 48 of 50, Train Loss: 0.143\n",
            "Epoch 49 of 50, Train Loss: 0.143\n",
            "Epoch 50 of 50, Train Loss: 0.143\n"
          ],
          "name": "stdout"
        },
        {
          "output_type": "display_data",
          "data": {
            "image/png": "[encoded data removed]",
            "text/plain": [
              "<Figure size 432x288 with 1 Axes>"
            ]
          },
          "metadata": {
            "tags": []
          }
        }
      ]
    },
    {
      "cell_type": "code",
      "metadata": {
        "id": "07u8_Q2QogoW",
        "colab_type": "code",
        "colab": {}
      },
      "source": [
        ""
      ],
      "execution_count": 0,
      "outputs": []
    }
  ]
}